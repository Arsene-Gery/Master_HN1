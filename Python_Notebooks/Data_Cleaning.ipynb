{
 "cells": [
  {
   "cell_type": "code",
   "execution_count": null,
   "id": "c8683c35-d36d-4b2a-a2e6-279a8085e217",
   "metadata": {},
   "outputs": [],
   "source": [
    "import pandas as pd\n",
    "\n",
    "file_path = '/Users/arsenegery/Desktop/Cleaned_Data_Ritual_M1/Cleaned_Data/Updated_Cleaned_HRAF_Rituals_Dataset.xlsx'\n",
    "data = pd.read_excel(file_path)\n",
    "\n",
    "# Replace all NaN values with '0'\n",
    "data_filled = data.fillna(0)\n",
    "# Replace all occurrences of -1 with 0\n",
    "data_replaced = data_filled.replace(-1, 0)\n",
    "# For replacing dates with '1', we first need to identify columns that could contain date values\n",
    "date_columns = data_replaced.select_dtypes(include=['object']).columns\n",
    "# Replace date-like values detected in these columns with '1'\n",
    "for col in date_columns:\n",
    "    data_replaced[col] = data_replaced[col].astype(str).str.replace(r'\\d{4}-\\d{2}-\\d{2}', '1', regex=True)\n",
    "# Replace commas in numerical values with dots\n",
    "data_replaced = data_replaced.applymap(lambda x: str(x).replace(',', '.') if isinstance(x, str) else x)\n",
    "# Check the unique values and their types in my column \"Under what circumstances is one recruited to the religious tradition?\"\n",
    "column_name = \"Under what circumstances is one recruited to the religious tradition?\"\n",
    "unique_values = data_replaced[column_name].unique()\n",
    "# Convert all values in the column to numerical, and handling special cases\n",
    "data_replaced[column_name] = data_replaced[column_name].replace('1 00:00:00', '1').astype(float)\n",
    "# Removing \"Details of named religious traditions\" from the dataset\n",
    "data_replaced.drop(columns=[\"Details of named religious traditions\"], inplace=True)\n",
    "\n",
    "# Copying the cleaned data file to the new specified name\n",
    "new_filename = '/Users/arsenegery/Desktop/Cleaned_Data_Ritual_M1/Cleaned_Data/Cleaned_Data_HN_Master.xlsx'\n",
    "data_replaced.to_excel(new_filename, index=False)\n",
    "\n",
    "# Removing the \"Society\" column from the dataset before grouping rows by \"Religious tradition\"\n",
    "data = data.drop(columns=['Society'])\n",
    "\n",
    "# Renaming name of \"Religious tradition\" to avoid visualisation inefficiency. \n",
    "specific_value = \"19th Century Yakut practice (Jochelson. Waldemar. 1885-1937 Kumiss festivals of the Yakut and the decoration of Kumiss vessels. 263)\"\n",
    "general_value = \"19th Century Yakut practice\"\n",
    "data['Religious tradition'] = data['Religious tradition'].replace(specific_value, general_value)\n",
    "data = data.replace(334, 3.34)"
   ]
  },
  {
   "cell_type": "code",
   "execution_count": null,
   "id": "dd8ed9e3-57ab-444a-9cd4-0aeee582d79c",
   "metadata": {},
   "outputs": [],
   "source": []
  }
 ],
 "metadata": {
  "kernelspec": {
   "display_name": "Python 3 (ipykernel)",
   "language": "python",
   "name": "python3"
  },
  "language_info": {
   "codemirror_mode": {
    "name": "ipython",
    "version": 3
   },
   "file_extension": ".py",
   "mimetype": "text/x-python",
   "name": "python",
   "nbconvert_exporter": "python",
   "pygments_lexer": "ipython3",
   "version": "3.11.7"
  }
 },
 "nbformat": 4,
 "nbformat_minor": 5
}
